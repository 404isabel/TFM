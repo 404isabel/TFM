{
 "cells": [
  {
   "cell_type": "code",
   "execution_count": 1,
   "metadata": {},
   "outputs": [
    {
     "name": "stdout",
     "output_type": "stream",
     "text": [
      "Collecting pip\n",
      "  Downloading https://files.pythonhosted.org/packages/5c/e0/be401c003291b56efc55aeba6a80ab790d3d4cece2778288d65323009420/pip-19.1.1-py2.py3-none-any.whl (1.4MB)\n",
      "\u001b[K    100% |████████████████████████████████| 1.4MB 919kB/s eta 0:00:01\n",
      "\u001b[?25hInstalling collected packages: pip\n",
      "  Found existing installation: pip 9.0.1\n",
      "    Uninstalling pip-9.0.1:\n",
      "      Successfully uninstalled pip-9.0.1\n",
      "Successfully installed pip-19.1.1\n"
     ]
    }
   ],
   "source": [
    "!pip install --upgrade pip"
   ]
  },
  {
   "cell_type": "code",
   "execution_count": 2,
   "metadata": {
    "scrolled": false
   },
   "outputs": [
    {
     "name": "stdout",
     "output_type": "stream",
     "text": [
      "Collecting tensorflow\n",
      "\u001b[?25l  Downloading https://files.pythonhosted.org/packages/de/f0/96fb2e0412ae9692dbf400e5b04432885f677ad6241c088ccc5fe7724d69/tensorflow-1.14.0-cp36-cp36m-manylinux1_x86_64.whl (109.2MB)\n",
      "\u001b[K     |████████████████████████████████| 109.2MB 80.7MB/s eta 0:00:01\n",
      "\u001b[?25hRequirement already satisfied: wheel>=0.26 in ./anaconda3/lib/python3.6/site-packages (from tensorflow) (0.30.0)\n",
      "Requirement already satisfied: six>=1.10.0 in ./anaconda3/lib/python3.6/site-packages (from tensorflow) (1.11.0)\n",
      "Collecting google-pasta>=0.1.6 (from tensorflow)\n",
      "\u001b[?25l  Downloading https://files.pythonhosted.org/packages/d0/33/376510eb8d6246f3c30545f416b2263eee461e40940c2a4413c711bdf62d/google_pasta-0.1.7-py3-none-any.whl (52kB)\n",
      "\u001b[K     |████████████████████████████████| 61kB 27.5MB/s eta 0:00:01\n",
      "\u001b[?25hCollecting termcolor>=1.1.0 (from tensorflow)\n",
      "  Downloading https://files.pythonhosted.org/packages/8a/48/a76be51647d0eb9f10e2a4511bf3ffb8cc1e6b14e9e4fab46173aa79f981/termcolor-1.1.0.tar.gz\n",
      "Collecting wrapt>=1.11.1 (from tensorflow)\n",
      "  Downloading https://files.pythonhosted.org/packages/23/84/323c2415280bc4fc880ac5050dddfb3c8062c2552b34c2e512eb4aa68f79/wrapt-1.11.2.tar.gz\n",
      "Collecting tensorboard<1.15.0,>=1.14.0 (from tensorflow)\n",
      "\u001b[?25l  Downloading https://files.pythonhosted.org/packages/91/2d/2ed263449a078cd9c8a9ba50ebd50123adf1f8cfbea1492f9084169b89d9/tensorboard-1.14.0-py3-none-any.whl (3.1MB)\n",
      "\u001b[K     |████████████████████████████████| 3.2MB 56.1MB/s eta 0:00:01\n",
      "\u001b[?25hCollecting absl-py>=0.7.0 (from tensorflow)\n",
      "\u001b[?25l  Downloading https://files.pythonhosted.org/packages/da/3f/9b0355080b81b15ba6a9ffcf1f5ea39e307a2778b2f2dc8694724e8abd5b/absl-py-0.7.1.tar.gz (99kB)\n",
      "\u001b[K     |████████████████████████████████| 102kB 35.6MB/s ta 0:00:01\n",
      "\u001b[?25hCollecting astor>=0.6.0 (from tensorflow)\n",
      "  Downloading https://files.pythonhosted.org/packages/d1/4f/950dfae467b384fc96bc6469de25d832534f6b4441033c39f914efd13418/astor-0.8.0-py2.py3-none-any.whl\n",
      "Collecting grpcio>=1.8.6 (from tensorflow)\n",
      "\u001b[?25l  Downloading https://files.pythonhosted.org/packages/99/83/18f374294bf34128a448ee2fae37651f943b0b5fa473b5b3aff262c15bf8/grpcio-1.21.1-cp36-cp36m-manylinux1_x86_64.whl (2.2MB)\n",
      "\u001b[K     |████████████████████████████████| 2.2MB 43.3MB/s eta 0:00:01\n",
      "\u001b[?25hCollecting numpy<2.0,>=1.14.5 (from tensorflow)\n",
      "\u001b[?25l  Downloading https://files.pythonhosted.org/packages/87/2d/e4656149cbadd3a8a0369fcd1a9c7d61cc7b87b3903b85389c70c989a696/numpy-1.16.4-cp36-cp36m-manylinux1_x86_64.whl (17.3MB)\n",
      "\u001b[K     |████████████████████████████████| 17.3MB 43.2MB/s eta 0:00:01\n",
      "\u001b[?25hCollecting tensorflow-estimator<1.15.0rc0,>=1.14.0rc0 (from tensorflow)\n",
      "\u001b[?25l  Downloading https://files.pythonhosted.org/packages/3c/d5/21860a5b11caf0678fbc8319341b0ae21a07156911132e0e71bffed0510d/tensorflow_estimator-1.14.0-py2.py3-none-any.whl (488kB)\n",
      "\u001b[K     |████████████████████████████████| 491kB 57.7MB/s eta 0:00:01\n",
      "\u001b[?25hRequirement already satisfied: protobuf>=3.6.1 in ./anaconda3/lib/python3.6/site-packages (from tensorflow) (3.8.0)\n",
      "Requirement already satisfied: keras-applications>=1.0.6 in ./anaconda3/lib/python3.6/site-packages (from tensorflow) (1.0.8)\n",
      "Requirement already satisfied: keras-preprocessing>=1.0.5 in ./anaconda3/lib/python3.6/site-packages (from tensorflow) (1.1.0)\n",
      "Collecting gast>=0.2.0 (from tensorflow)\n",
      "  Downloading https://files.pythonhosted.org/packages/4e/35/11749bf99b2d4e3cceb4d55ca22590b0d7c2c62b9de38ac4a4a7f4687421/gast-0.2.2.tar.gz\n",
      "Collecting markdown>=2.6.8 (from tensorboard<1.15.0,>=1.14.0->tensorflow)\n",
      "\u001b[?25l  Downloading https://files.pythonhosted.org/packages/c0/4e/fd492e91abdc2d2fcb70ef453064d980688762079397f779758e055f6575/Markdown-3.1.1-py2.py3-none-any.whl (87kB)\n",
      "\u001b[K     |████████████████████████████████| 92kB 34.2MB/s eta 0:00:01\n",
      "\u001b[?25hCollecting setuptools>=41.0.0 (from tensorboard<1.15.0,>=1.14.0->tensorflow)\n",
      "\u001b[?25l  Downloading https://files.pythonhosted.org/packages/ec/51/f45cea425fd5cb0b0380f5b0f048ebc1da5b417e48d304838c02d6288a1e/setuptools-41.0.1-py2.py3-none-any.whl (575kB)\n",
      "\u001b[K     |████████████████████████████████| 583kB 49.4MB/s eta 0:00:01\n",
      "\u001b[?25hRequirement already satisfied: werkzeug>=0.11.15 in ./anaconda3/lib/python3.6/site-packages (from tensorboard<1.15.0,>=1.14.0->tensorflow) (0.14.1)\n",
      "Requirement already satisfied: h5py in ./anaconda3/lib/python3.6/site-packages (from keras-applications>=1.0.6->tensorflow) (2.7.1)\n",
      "Building wheels for collected packages: termcolor, wrapt, absl-py, gast\n",
      "  Building wheel for termcolor (setup.py) ... \u001b[?25ldone\n",
      "\u001b[?25h  Stored in directory: /home/g404tests/.cache/pip/wheels/7c/06/54/bc84598ba1daf8f970247f550b175aaaee85f68b4b0c5ab2c6\n",
      "  Building wheel for wrapt (setup.py) ... \u001b[?25ldone\n",
      "\u001b[?25h  Stored in directory: /home/g404tests/.cache/pip/wheels/d7/de/2e/efa132238792efb6459a96e85916ef8597fcb3d2ae51590dfd\n",
      "  Building wheel for absl-py (setup.py) ... \u001b[?25ldone\n",
      "\u001b[?25h  Stored in directory: /home/g404tests/.cache/pip/wheels/ee/98/38/46cbcc5a93cfea5492d19c38562691ddb23b940176c14f7b48\n",
      "  Building wheel for gast (setup.py) ... \u001b[?25ldone\n",
      "\u001b[?25h  Stored in directory: /home/g404tests/.cache/pip/wheels/5c/2e/7e/a1d4d4fcebe6c381f378ce7743a3ced3699feb89bcfbdadadd\n",
      "Successfully built termcolor wrapt absl-py gast\n",
      "Installing collected packages: google-pasta, termcolor, wrapt, numpy, setuptools, markdown, grpcio, absl-py, tensorboard, astor, tensorflow-estimator, gast, tensorflow\n",
      "  Found existing installation: wrapt 1.10.11\n",
      "\u001b[31mERROR: Cannot uninstall 'wrapt'. It is a distutils installed project and thus we cannot accurately determine which files belong to it which would lead to only a partial uninstall.\u001b[0m\n"
     ]
    }
   ],
   "source": [
    "#!pip install tensorflow #Creo que esto no hay que hacerlo\n",
    "#Desde terminal conda install tensorflow"
   ]
  },
  {
   "cell_type": "code",
   "execution_count": 4,
   "metadata": {},
   "outputs": [
    {
     "name": "stdout",
     "output_type": "stream",
     "text": [
      "Requirement already satisfied: keras in ./anaconda3/lib/python3.6/site-packages (2.2.4)\n",
      "Requirement already satisfied: scipy>=0.14 in ./anaconda3/lib/python3.6/site-packages (from keras) (1.0.0)\n",
      "Requirement already satisfied: h5py in ./anaconda3/lib/python3.6/site-packages (from keras) (2.7.1)\n",
      "Requirement already satisfied: pyyaml in ./anaconda3/lib/python3.6/site-packages (from keras) (3.12)\n",
      "Requirement already satisfied: six>=1.9.0 in ./anaconda3/lib/python3.6/site-packages (from keras) (1.11.0)\n",
      "Requirement already satisfied: numpy>=1.9.1 in ./anaconda3/lib/python3.6/site-packages (from keras) (1.14.0)\n",
      "Requirement already satisfied: keras-preprocessing>=1.0.5 in ./anaconda3/lib/python3.6/site-packages (from keras) (1.1.0)\n",
      "Requirement already satisfied: keras-applications>=1.0.6 in ./anaconda3/lib/python3.6/site-packages (from keras) (1.0.8)\n"
     ]
    }
   ],
   "source": [
    "!pip install keras"
   ]
  },
  {
   "cell_type": "code",
   "execution_count": 4,
   "metadata": {
    "scrolled": false
   },
   "outputs": [
    {
     "name": "stdout",
     "output_type": "stream",
     "text": [
      "Collecting opencv-python\n",
      "\u001b[?25l  Downloading https://files.pythonhosted.org/packages/7b/d2/a2dbf83d4553ca6b3701d91d75e42fe50aea97acdc00652dca515749fb5d/opencv_python-4.1.0.25-cp36-cp36m-manylinux1_x86_64.whl (26.6MB)\n",
      "\u001b[K     |████████████████████████████████| 26.6MB 6.6MB/s eta 0:00:01\n",
      "\u001b[?25hRequirement already satisfied: numpy>=1.11.3 in ./anaconda3/lib/python3.6/site-packages (from opencv-python) (1.14.0)\n",
      "Installing collected packages: opencv-python\n",
      "Successfully installed opencv-python-4.1.0.25\n"
     ]
    }
   ],
   "source": [
    "!pip install opencv-python\n",
    "#apt update && apt install -y libsm6 libxext6 (Desde consola de comandos de unix. Previamente sudo -s)\n",
    "#sudo apt-get install libfontconfig1 libxrender1 (Desde consola de comandos de unix. Previamente sudo -s)"
   ]
  },
  {
   "cell_type": "code",
   "execution_count": 5,
   "metadata": {},
   "outputs": [
    {
     "name": "stdout",
     "output_type": "stream",
     "text": [
      "E: Could not open lock file /var/lib/dpkg/lock-frontend - open (13: Permission denied)\r\n",
      "E: Unable to acquire the dpkg frontend lock (/var/lib/dpkg/lock-frontend), are you root?\r\n"
     ]
    }
   ],
   "source": [
    "!apt install -y libsm6 libxext6"
   ]
  },
  {
   "cell_type": "code",
   "execution_count": 6,
   "metadata": {
    "scrolled": false
   },
   "outputs": [
    {
     "name": "stdout",
     "output_type": "stream",
     "text": [
      "Collecting opencv-contrib-python\n",
      "\u001b[?25l  Downloading https://files.pythonhosted.org/packages/af/0a/50a827d13a75754a8500fa854517f09886027005b09ac5210dca9f0aa101/opencv_contrib_python-4.1.0.25-cp36-cp36m-manylinux1_x86_64.whl (32.6MB)\n",
      "\u001b[K     |████████████████████████████████| 32.6MB 6.3MB/s eta 0:00:01\n",
      "\u001b[?25hRequirement already satisfied: numpy>=1.11.3 in ./anaconda3/lib/python3.6/site-packages (from opencv-contrib-python) (1.14.0)\n",
      "Installing collected packages: opencv-contrib-python\n",
      "Successfully installed opencv-contrib-python-4.1.0.25\n"
     ]
    }
   ],
   "source": [
    "!pip install opencv-contrib-python"
   ]
  },
  {
   "cell_type": "code",
   "execution_count": 7,
   "metadata": {
    "scrolled": true
   },
   "outputs": [
    {
     "name": "stdout",
     "output_type": "stream",
     "text": [
      "Collecting GoogleAppEngineCloudStorageClient\n",
      "  Downloading https://files.pythonhosted.org/packages/92/cd/4a8aaeb4bf69c67a6fa06c001fd54c229c2bc811e13d3f4d305e1a8201b0/GoogleAppEngineCloudStorageClient-1.9.22.1.tar.gz\n",
      "Building wheels for collected packages: GoogleAppEngineCloudStorageClient\n",
      "  Building wheel for GoogleAppEngineCloudStorageClient (setup.py) ... \u001b[?25ldone\n",
      "\u001b[?25h  Stored in directory: /home/g404tests/.cache/pip/wheels/e5/2f/b3/6bdb2fd3f05228d7ad93f1f130e6b203c5f5a34263f8a7dee4\n",
      "Successfully built GoogleAppEngineCloudStorageClient\n",
      "Installing collected packages: GoogleAppEngineCloudStorageClient\n",
      "Successfully installed GoogleAppEngineCloudStorageClient-1.9.22.1\n"
     ]
    }
   ],
   "source": [
    "!pip install GoogleAppEngineCloudStorageClient"
   ]
  },
  {
   "cell_type": "code",
   "execution_count": 8,
   "metadata": {
    "scrolled": true
   },
   "outputs": [
    {
     "name": "stdout",
     "output_type": "stream",
     "text": [
      "Collecting google-cloud-storage\n",
      "\u001b[?25l  Downloading https://files.pythonhosted.org/packages/e2/4e/aee59b19321eb1063317c2e6fa4c2f3cfe21740586de78578eedbd2bed3d/google_cloud_storage-1.16.1-py2.py3-none-any.whl (65kB)\n",
      "\u001b[K     |████████████████████████████████| 71kB 6.2MB/s eta 0:00:011\n",
      "\u001b[?25hCollecting google-cloud-core<2.0dev,>=1.0.0 (from google-cloud-storage)\n",
      "  Downloading https://files.pythonhosted.org/packages/98/7f/ff56aec313787577e262d5a2e306c04aef61c5c274699ff9fb40095e6691/google_cloud_core-1.0.2-py2.py3-none-any.whl\n",
      "Collecting google-auth>=1.2.0 (from google-cloud-storage)\n",
      "\u001b[?25l  Downloading https://files.pythonhosted.org/packages/c5/9b/ed0516cc1f7609fb0217e3057ff4f0f9f3e3ce79a369c6af4a6c5ca25664/google_auth-1.6.3-py2.py3-none-any.whl (73kB)\n",
      "\u001b[K     |████████████████████████████████| 81kB 14.7MB/s eta 0:00:01\n",
      "\u001b[?25hCollecting google-resumable-media>=0.3.1 (from google-cloud-storage)\n",
      "  Downloading https://files.pythonhosted.org/packages/e2/5d/4bc5c28c252a62efe69ed1a1561da92bd5af8eca0cdcdf8e60354fae9b29/google_resumable_media-0.3.2-py2.py3-none-any.whl\n",
      "Collecting google-api-core<2.0.0dev,>=1.11.0 (from google-cloud-core<2.0dev,>=1.0.0->google-cloud-storage)\n",
      "\u001b[?25l  Downloading https://files.pythonhosted.org/packages/f7/0b/8cadd6bdc9b93e175075eddf852ab91504e6dc6a23ba38a0e21ebde8e3c3/google_api_core-1.12.0-py2.py3-none-any.whl (67kB)\n",
      "\u001b[K     |████████████████████████████████| 71kB 29.4MB/s eta 0:00:01\n",
      "\u001b[?25hRequirement already satisfied: six>=1.9.0 in ./anaconda3/lib/python3.6/site-packages (from google-auth>=1.2.0->google-cloud-storage) (1.11.0)\n",
      "Collecting pyasn1-modules>=0.2.1 (from google-auth>=1.2.0->google-cloud-storage)\n",
      "\u001b[?25l  Downloading https://files.pythonhosted.org/packages/91/f0/b03e00ce9fddf4827c42df1c3ce10c74eadebfb706231e8d6d1c356a4062/pyasn1_modules-0.2.5-py2.py3-none-any.whl (74kB)\n",
      "\u001b[K     |████████████████████████████████| 81kB 33.1MB/s eta 0:00:01\n",
      "\u001b[?25hCollecting rsa>=3.1.4 (from google-auth>=1.2.0->google-cloud-storage)\n",
      "  Downloading https://files.pythonhosted.org/packages/02/e5/38518af393f7c214357079ce67a317307936896e961e35450b70fad2a9cf/rsa-4.0-py2.py3-none-any.whl\n",
      "Collecting cachetools>=2.0.0 (from google-auth>=1.2.0->google-cloud-storage)\n",
      "  Downloading https://files.pythonhosted.org/packages/2f/a6/30b0a0bef12283e83e58c1d6e7b5aabc7acfc4110df81a4471655d33e704/cachetools-3.1.1-py2.py3-none-any.whl\n",
      "Requirement already satisfied: requests<3.0.0dev,>=2.18.0 in ./anaconda3/lib/python3.6/site-packages (from google-api-core<2.0.0dev,>=1.11.0->google-cloud-core<2.0dev,>=1.0.0->google-cloud-storage) (2.18.4)\n",
      "Requirement already satisfied: setuptools>=34.0.0 in ./anaconda3/lib/python3.6/site-packages (from google-api-core<2.0.0dev,>=1.11.0->google-cloud-core<2.0dev,>=1.0.0->google-cloud-storage) (38.4.0)\n",
      "Collecting protobuf>=3.4.0 (from google-api-core<2.0.0dev,>=1.11.0->google-cloud-core<2.0dev,>=1.0.0->google-cloud-storage)\n",
      "\u001b[?25l  Downloading https://files.pythonhosted.org/packages/d2/fb/29de8d08967f0cce1bb10b39846d836b0f3bf6776ddc36aed7c73498ca7e/protobuf-3.8.0-cp36-cp36m-manylinux1_x86_64.whl (1.2MB)\n",
      "\u001b[K     |████████████████████████████████| 1.2MB 51.8MB/s eta 0:00:01\n",
      "\u001b[?25hRequirement already satisfied: pytz in ./anaconda3/lib/python3.6/site-packages (from google-api-core<2.0.0dev,>=1.11.0->google-cloud-core<2.0dev,>=1.0.0->google-cloud-storage) (2017.3)\n",
      "Collecting googleapis-common-protos!=1.5.4,<2.0dev,>=1.5.3 (from google-api-core<2.0.0dev,>=1.11.0->google-cloud-core<2.0dev,>=1.0.0->google-cloud-storage)\n",
      "  Downloading https://files.pythonhosted.org/packages/eb/ee/e59e74ecac678a14d6abefb9054f0bbcb318a6452a30df3776f133886d7d/googleapis-common-protos-1.6.0.tar.gz\n",
      "Collecting pyasn1<0.5.0,>=0.4.1 (from pyasn1-modules>=0.2.1->google-auth>=1.2.0->google-cloud-storage)\n",
      "\u001b[?25l  Downloading https://files.pythonhosted.org/packages/7b/7c/c9386b82a25115cccf1903441bba3cbadcfae7b678a20167347fa8ded34c/pyasn1-0.4.5-py2.py3-none-any.whl (73kB)\n",
      "\u001b[K     |████████████████████████████████| 81kB 30.0MB/s eta 0:00:01\n",
      "\u001b[?25hRequirement already satisfied: chardet<3.1.0,>=3.0.2 in ./anaconda3/lib/python3.6/site-packages (from requests<3.0.0dev,>=2.18.0->google-api-core<2.0.0dev,>=1.11.0->google-cloud-core<2.0dev,>=1.0.0->google-cloud-storage) (3.0.4)\n",
      "Requirement already satisfied: idna<2.7,>=2.5 in ./anaconda3/lib/python3.6/site-packages (from requests<3.0.0dev,>=2.18.0->google-api-core<2.0.0dev,>=1.11.0->google-cloud-core<2.0dev,>=1.0.0->google-cloud-storage) (2.6)\n",
      "Requirement already satisfied: urllib3<1.23,>=1.21.1 in ./anaconda3/lib/python3.6/site-packages (from requests<3.0.0dev,>=2.18.0->google-api-core<2.0.0dev,>=1.11.0->google-cloud-core<2.0dev,>=1.0.0->google-cloud-storage) (1.22)\n",
      "Requirement already satisfied: certifi>=2017.4.17 in ./anaconda3/lib/python3.6/site-packages (from requests<3.0.0dev,>=2.18.0->google-api-core<2.0.0dev,>=1.11.0->google-cloud-core<2.0dev,>=1.0.0->google-cloud-storage) (2018.1.18)\n",
      "Building wheels for collected packages: googleapis-common-protos\n",
      "  Building wheel for googleapis-common-protos (setup.py) ... \u001b[?25ldone\n",
      "\u001b[?25h  Stored in directory: /home/g404tests/.cache/pip/wheels/9e/3d/a2/1bec8bb7db80ab3216dbc33092bb7ccd0debfb8ba42b5668d5\n",
      "Successfully built googleapis-common-protos\n",
      "Installing collected packages: pyasn1, pyasn1-modules, rsa, cachetools, google-auth, protobuf, googleapis-common-protos, google-api-core, google-cloud-core, google-resumable-media, google-cloud-storage\n",
      "Successfully installed cachetools-3.1.1 google-api-core-1.12.0 google-auth-1.6.3 google-cloud-core-1.0.2 google-cloud-storage-1.16.1 google-resumable-media-0.3.2 googleapis-common-protos-1.6.0 protobuf-3.8.0 pyasn1-0.4.5 pyasn1-modules-0.2.5 rsa-4.0\n"
     ]
    }
   ],
   "source": [
    "!pip install google-cloud-storage"
   ]
  },
  {
   "cell_type": "code",
   "execution_count": null,
   "metadata": {},
   "outputs": [],
   "source": [
    "!pip install scikit-plot"
   ]
  },
  {
   "cell_type": "code",
   "execution_count": 1,
   "metadata": {},
   "outputs": [
    {
     "name": "stderr",
     "output_type": "stream",
     "text": [
      "/home/g404tests/anaconda3/lib/python3.6/site-packages/h5py/__init__.py:36: FutureWarning: Conversion of the second argument of issubdtype from `float` to `np.floating` is deprecated. In future, it will be treated as `np.float64 == np.dtype(float).type`.\n",
      "  from ._conv import register_converters as _register_converters\n",
      "Using TensorFlow backend.\n"
     ]
    }
   ],
   "source": [
    "import pandas as pd\n",
    "from zipfile import ZipFile\n",
    "from zipfile import is_zipfile\n",
    "import io\n",
    "import numpy as np\n",
    "from PIL import Image\n",
    "import time\n",
    "import matplotlib.pyplot as plt \n",
    "import matplotlib.image as mpimg \n",
    "import pickle\n",
    "import glob\n",
    "import cv2\n",
    "from keras import models\n",
    "from keras import layers\n",
    "import shutil\n",
    "import os\n",
    "from keras.preprocessing.image import ImageDataGenerator\n",
    "from google.cloud import storage"
   ]
  },
  {
   "cell_type": "markdown",
   "metadata": {},
   "source": [
    "Se hace público el bucket hcd-3 y los archivos que contiene"
   ]
  },
  {
   "cell_type": "code",
   "execution_count": 3,
   "metadata": {},
   "outputs": [],
   "source": [
    "client = storage.Client()\n",
    "bucket = client.get_bucket('hcd-3')\n",
    "bucket.make_public(recursive=True,future=True)\n",
    "listado=bucket.list_blobs()"
   ]
  },
  {
   "cell_type": "code",
   "execution_count": null,
   "metadata": {},
   "outputs": [],
   "source": [
    "#El archivo estaba en googleCloud storage. Se copia a la máquina virtual del siguiente modo\n",
    "#gsutil cp -r  gs://hcd-data/hcd_comprimido.zip hcd.zip #Ejecutado en la consola Unix"
   ]
  },
  {
   "cell_type": "markdown",
   "metadata": {},
   "source": [
    "El zip original estaba dividido únicamnte en train y test.\n",
    "Se ha modificado de modo tal que de la carpeta train se ha extraido un subconjunto para validación."
   ]
  },
  {
   "cell_type": "code",
   "execution_count": 6,
   "metadata": {},
   "outputs": [],
   "source": [
    "#Extraer zip \n",
    "with ZipFile('hcd.zip', 'r') as zipObj:  \n",
    "    zipObj.extractall()"
   ]
  },
  {
   "cell_type": "code",
   "execution_count": 7,
   "metadata": {},
   "outputs": [],
   "source": [
    "#Extraer subzips \n",
    "with ZipFile('train.zip', 'r') as zipObj:  \n",
    "    zipObj.extractall()\n",
    "with ZipFile('test.zip', 'r') as zipObj:  \n",
    "    zipObj.extractall()\n",
    "with ZipFile('val.zip', 'r') as zipObj:  \n",
    "    zipObj.extractall()      "
   ]
  },
  {
   "cell_type": "code",
   "execution_count": 8,
   "metadata": {},
   "outputs": [],
   "source": [
    "#Rutas de los archivos\n",
    "imagePatchesTrain = glob.glob( 'train/*.tif', recursive=True)\n",
    "imagePatchesTest = glob.glob( 'test/*.tif', recursive=True)\n",
    "imagePatchesVal = glob.glob( 'val/*.tif', recursive=True)"
   ]
  },
  {
   "cell_type": "code",
   "execution_count": 9,
   "metadata": {
    "scrolled": false
   },
   "outputs": [
    {
     "name": "stdout",
     "output_type": "stream",
     "text": [
      "162567\n",
      "57458\n",
      "57458\n"
     ]
    }
   ],
   "source": [
    "print(len(imagePatchesTrain))\n",
    "print(len(imagePatchesTest))\n",
    "print(len(imagePatchesVal))"
   ]
  },
  {
   "cell_type": "code",
   "execution_count": 10,
   "metadata": {},
   "outputs": [
    {
     "name": "stdout",
     "output_type": "stream",
     "text": [
      "train/77c55652e2478eb9292ce7c9db671dfd56f33464.tif\n"
     ]
    }
   ],
   "source": [
    "print(imagePatchesTrain[0])"
   ]
  },
  {
   "cell_type": "code",
   "execution_count": 6,
   "metadata": {
    "scrolled": true
   },
   "outputs": [],
   "source": [
    "#Crear carpetas de cancer y no_cancer\n",
    "no_cancer_train = os.path.join('train', 'no_cancer')\n",
    "os.mkdir(no_cancer_train)\n",
    "cancer_train = os.path.join('train', 'cancer')\n",
    "os.mkdir(cancer_train)\n",
    "\n",
    "no_cancer_val = os.path.join('val', 'no_cancer')\n",
    "os.mkdir(no_cancer_val)\n",
    "cancer_val = os.path.join('val', 'cancer')\n",
    "os.mkdir(cancer_val)"
   ]
  },
  {
   "cell_type": "code",
   "execution_count": 12,
   "metadata": {},
   "outputs": [],
   "source": [
    "#RUTAS\n",
    "TRAIN_CANCER='train/cancer'\n",
    "TRAIN_NO_CANCER='train/no_cancer'\n",
    "\n",
    "VAL_CANCER='val/cancer'\n",
    "VAL_NO_CANCER='val/no_cancer'"
   ]
  },
  {
   "cell_type": "code",
   "execution_count": 14,
   "metadata": {},
   "outputs": [],
   "source": [
    "#Labels para clasificar imágenes del conjunto de train y validation\n",
    "train_labels_df = pd.read_csv('train_labels.csv')"
   ]
  },
  {
   "cell_type": "code",
   "execution_count": 15,
   "metadata": {
    "scrolled": false
   },
   "outputs": [],
   "source": [
    "def obtenerNombreImagen(rutaImagen, carpeta):\n",
    "    if carpeta=='train':\n",
    "        return rutaImagen[6:46]\n",
    "    elif carpeta=='val':\n",
    "        return rutaImagen[4:44]\n",
    "    elif carpeta=='test':\n",
    "        return rutaImagen[5:45]\n",
    "    \n",
    "def obtenerRuta(rutaImagen, carpeta, df):\n",
    "    valor=0\n",
    "    ruta=''\n",
    "    nombreImagen=obtenerNombreImagen(rutaImagen,carpeta)    \n",
    "    idObtenido=(df[df['id']==nombreImagen])['label']    \n",
    "    for value in idObtenido:           \n",
    "        valor=value\n",
    "       \n",
    "    if valor==0:\n",
    "        ruta=carpeta+'/no_cancer/'+nombreImagen+'.tif'        \n",
    "    elif valor==1:\n",
    "        ruta=carpeta+'/cancer/'+nombreImagen +'.tif'\n",
    "    return ruta\n",
    "\n",
    "def moverImagenesCat(imagePatches, carpeta, labels_df):\n",
    "    i=0\n",
    "    for origen in imagePatches:\n",
    "        destino=obtenerRuta(origen,carpeta, labels_df)    \n",
    "        #print('origen '+str(origen))\n",
    "        #print('destino '+str(destino))\n",
    "        #print('\\r\\n')\n",
    "        shutil.move(origen,destino)    \n",
    "        if i%1000==0 or i== len(imagePatches)-1 :\n",
    "            print(\"Se han movido \"+str(i)+\"imágenes\")     \n",
    "        i+=1\n",
    "        "
   ]
  },
  {
   "cell_type": "code",
   "execution_count": 16,
   "metadata": {},
   "outputs": [
    {
     "name": "stdout",
     "output_type": "stream",
     "text": [
      "Se han movido 0imágenes\n",
      "Se han movido 1000imágenes\n",
      "Se han movido 2000imágenes\n",
      "Se han movido 3000imágenes\n",
      "Se han movido 4000imágenes\n",
      "Se han movido 5000imágenes\n",
      "Se han movido 6000imágenes\n",
      "Se han movido 7000imágenes\n",
      "Se han movido 8000imágenes\n",
      "Se han movido 9000imágenes\n",
      "Se han movido 10000imágenes\n",
      "Se han movido 11000imágenes\n",
      "Se han movido 12000imágenes\n",
      "Se han movido 13000imágenes\n",
      "Se han movido 14000imágenes\n",
      "Se han movido 15000imágenes\n",
      "Se han movido 16000imágenes\n",
      "Se han movido 17000imágenes\n",
      "Se han movido 18000imágenes\n",
      "Se han movido 19000imágenes\n",
      "Se han movido 20000imágenes\n",
      "Se han movido 21000imágenes\n",
      "Se han movido 22000imágenes\n",
      "Se han movido 23000imágenes\n",
      "Se han movido 24000imágenes\n",
      "Se han movido 25000imágenes\n",
      "Se han movido 26000imágenes\n",
      "Se han movido 27000imágenes\n",
      "Se han movido 28000imágenes\n",
      "Se han movido 29000imágenes\n",
      "Se han movido 30000imágenes\n",
      "Se han movido 31000imágenes\n",
      "Se han movido 32000imágenes\n",
      "Se han movido 33000imágenes\n",
      "Se han movido 34000imágenes\n",
      "Se han movido 35000imágenes\n",
      "Se han movido 36000imágenes\n",
      "Se han movido 37000imágenes\n",
      "Se han movido 38000imágenes\n",
      "Se han movido 39000imágenes\n",
      "Se han movido 40000imágenes\n",
      "Se han movido 41000imágenes\n",
      "Se han movido 42000imágenes\n",
      "Se han movido 43000imágenes\n",
      "Se han movido 44000imágenes\n",
      "Se han movido 45000imágenes\n",
      "Se han movido 46000imágenes\n",
      "Se han movido 47000imágenes\n",
      "Se han movido 48000imágenes\n",
      "Se han movido 49000imágenes\n",
      "Se han movido 50000imágenes\n",
      "Se han movido 51000imágenes\n",
      "Se han movido 52000imágenes\n",
      "Se han movido 53000imágenes\n",
      "Se han movido 54000imágenes\n",
      "Se han movido 55000imágenes\n",
      "Se han movido 56000imágenes\n",
      "Se han movido 57000imágenes\n",
      "Se han movido 58000imágenes\n",
      "Se han movido 59000imágenes\n",
      "Se han movido 60000imágenes\n",
      "Se han movido 61000imágenes\n",
      "Se han movido 62000imágenes\n",
      "Se han movido 63000imágenes\n",
      "Se han movido 64000imágenes\n",
      "Se han movido 65000imágenes\n",
      "Se han movido 66000imágenes\n",
      "Se han movido 67000imágenes\n",
      "Se han movido 68000imágenes\n",
      "Se han movido 69000imágenes\n",
      "Se han movido 70000imágenes\n",
      "Se han movido 71000imágenes\n",
      "Se han movido 72000imágenes\n",
      "Se han movido 73000imágenes\n",
      "Se han movido 74000imágenes\n",
      "Se han movido 75000imágenes\n",
      "Se han movido 76000imágenes\n",
      "Se han movido 77000imágenes\n",
      "Se han movido 78000imágenes\n",
      "Se han movido 79000imágenes\n",
      "Se han movido 80000imágenes\n",
      "Se han movido 81000imágenes\n",
      "Se han movido 82000imágenes\n",
      "Se han movido 83000imágenes\n",
      "Se han movido 84000imágenes\n",
      "Se han movido 85000imágenes\n",
      "Se han movido 86000imágenes\n",
      "Se han movido 87000imágenes\n",
      "Se han movido 88000imágenes\n",
      "Se han movido 89000imágenes\n",
      "Se han movido 90000imágenes\n",
      "Se han movido 91000imágenes\n",
      "Se han movido 92000imágenes\n",
      "Se han movido 93000imágenes\n",
      "Se han movido 94000imágenes\n",
      "Se han movido 95000imágenes\n",
      "Se han movido 96000imágenes\n",
      "Se han movido 97000imágenes\n",
      "Se han movido 98000imágenes\n",
      "Se han movido 99000imágenes\n",
      "Se han movido 100000imágenes\n",
      "Se han movido 101000imágenes\n",
      "Se han movido 102000imágenes\n",
      "Se han movido 103000imágenes\n",
      "Se han movido 104000imágenes\n",
      "Se han movido 105000imágenes\n",
      "Se han movido 106000imágenes\n",
      "Se han movido 107000imágenes\n",
      "Se han movido 108000imágenes\n",
      "Se han movido 109000imágenes\n",
      "Se han movido 110000imágenes\n",
      "Se han movido 111000imágenes\n",
      "Se han movido 112000imágenes\n",
      "Se han movido 113000imágenes\n",
      "Se han movido 114000imágenes\n",
      "Se han movido 115000imágenes\n",
      "Se han movido 116000imágenes\n",
      "Se han movido 117000imágenes\n",
      "Se han movido 118000imágenes\n",
      "Se han movido 119000imágenes\n",
      "Se han movido 120000imágenes\n",
      "Se han movido 121000imágenes\n",
      "Se han movido 122000imágenes\n",
      "Se han movido 123000imágenes\n",
      "Se han movido 124000imágenes\n",
      "Se han movido 125000imágenes\n",
      "Se han movido 126000imágenes\n",
      "Se han movido 127000imágenes\n",
      "Se han movido 128000imágenes\n",
      "Se han movido 129000imágenes\n",
      "Se han movido 130000imágenes\n",
      "Se han movido 131000imágenes\n",
      "Se han movido 132000imágenes\n",
      "Se han movido 133000imágenes\n",
      "Se han movido 134000imágenes\n",
      "Se han movido 135000imágenes\n",
      "Se han movido 136000imágenes\n",
      "Se han movido 137000imágenes\n",
      "Se han movido 138000imágenes\n",
      "Se han movido 139000imágenes\n",
      "Se han movido 140000imágenes\n",
      "Se han movido 141000imágenes\n",
      "Se han movido 142000imágenes\n",
      "Se han movido 143000imágenes\n",
      "Se han movido 144000imágenes\n",
      "Se han movido 145000imágenes\n",
      "Se han movido 146000imágenes\n",
      "Se han movido 147000imágenes\n",
      "Se han movido 148000imágenes\n",
      "Se han movido 149000imágenes\n",
      "Se han movido 150000imágenes\n",
      "Se han movido 151000imágenes\n",
      "Se han movido 152000imágenes\n",
      "Se han movido 153000imágenes\n",
      "Se han movido 154000imágenes\n",
      "Se han movido 155000imágenes\n",
      "Se han movido 156000imágenes\n",
      "Se han movido 157000imágenes\n",
      "Se han movido 158000imágenes\n",
      "Se han movido 159000imágenes\n",
      "Se han movido 160000imágenes\n",
      "Se han movido 161000imágenes\n",
      "Se han movido 162000imágenes\n",
      "Se han movido 162566imágenes\n",
      "Se han movido 0imágenes\n",
      "Se han movido 1000imágenes\n",
      "Se han movido 2000imágenes\n",
      "Se han movido 3000imágenes\n",
      "Se han movido 4000imágenes\n",
      "Se han movido 5000imágenes\n",
      "Se han movido 6000imágenes\n",
      "Se han movido 7000imágenes\n",
      "Se han movido 8000imágenes\n",
      "Se han movido 9000imágenes\n",
      "Se han movido 10000imágenes\n",
      "Se han movido 11000imágenes\n",
      "Se han movido 12000imágenes\n",
      "Se han movido 13000imágenes\n",
      "Se han movido 14000imágenes\n",
      "Se han movido 15000imágenes\n",
      "Se han movido 16000imágenes\n",
      "Se han movido 17000imágenes\n",
      "Se han movido 18000imágenes\n",
      "Se han movido 19000imágenes\n",
      "Se han movido 20000imágenes\n",
      "Se han movido 21000imágenes\n",
      "Se han movido 22000imágenes\n",
      "Se han movido 23000imágenes\n",
      "Se han movido 24000imágenes\n",
      "Se han movido 25000imágenes\n",
      "Se han movido 26000imágenes\n",
      "Se han movido 27000imágenes\n",
      "Se han movido 28000imágenes\n",
      "Se han movido 29000imágenes\n",
      "Se han movido 30000imágenes\n",
      "Se han movido 31000imágenes\n",
      "Se han movido 32000imágenes\n",
      "Se han movido 33000imágenes\n",
      "Se han movido 34000imágenes\n",
      "Se han movido 35000imágenes\n",
      "Se han movido 36000imágenes\n",
      "Se han movido 37000imágenes\n",
      "Se han movido 38000imágenes\n",
      "Se han movido 39000imágenes\n",
      "Se han movido 40000imágenes\n",
      "Se han movido 41000imágenes\n",
      "Se han movido 42000imágenes\n",
      "Se han movido 43000imágenes\n",
      "Se han movido 44000imágenes\n",
      "Se han movido 45000imágenes\n",
      "Se han movido 46000imágenes\n",
      "Se han movido 47000imágenes\n",
      "Se han movido 48000imágenes\n",
      "Se han movido 49000imágenes\n",
      "Se han movido 50000imágenes\n",
      "Se han movido 51000imágenes\n",
      "Se han movido 52000imágenes\n",
      "Se han movido 53000imágenes\n",
      "Se han movido 54000imágenes\n",
      "Se han movido 55000imágenes\n",
      "Se han movido 56000imágenes\n",
      "Se han movido 57000imágenes\n",
      "Se han movido 57457imágenes\n"
     ]
    }
   ],
   "source": [
    "moverImagenesCat(imagePatchesTrain, 'train', train_labels_df)\n",
    "moverImagenesCat(imagePatchesVal, 'val', train_labels_df)"
   ]
  },
  {
   "cell_type": "code",
   "execution_count": 16,
   "metadata": {},
   "outputs": [],
   "source": [
    "#Labels para clasificar imágenes del conjunto de test\n",
    "test_labels_df = pd.read_csv('sample_submission.csv')"
   ]
  },
  {
   "cell_type": "code",
   "execution_count": 19,
   "metadata": {
    "scrolled": true
   },
   "outputs": [
    {
     "name": "stdout",
     "output_type": "stream",
     "text": [
      "Se han movido 0imágenes\n",
      "Se han movido 1000imágenes\n",
      "Se han movido 2000imágenes\n",
      "Se han movido 3000imágenes\n",
      "Se han movido 4000imágenes\n",
      "Se han movido 5000imágenes\n",
      "Se han movido 6000imágenes\n",
      "Se han movido 7000imágenes\n",
      "Se han movido 8000imágenes\n",
      "Se han movido 9000imágenes\n",
      "Se han movido 10000imágenes\n",
      "Se han movido 11000imágenes\n",
      "Se han movido 12000imágenes\n",
      "Se han movido 13000imágenes\n",
      "Se han movido 14000imágenes\n",
      "Se han movido 15000imágenes\n",
      "Se han movido 16000imágenes\n",
      "Se han movido 17000imágenes\n",
      "Se han movido 18000imágenes\n",
      "Se han movido 19000imágenes\n",
      "Se han movido 20000imágenes\n",
      "Se han movido 21000imágenes\n",
      "Se han movido 22000imágenes\n",
      "Se han movido 23000imágenes\n",
      "Se han movido 24000imágenes\n",
      "Se han movido 25000imágenes\n",
      "Se han movido 26000imágenes\n",
      "Se han movido 27000imágenes\n",
      "Se han movido 28000imágenes\n",
      "Se han movido 29000imágenes\n",
      "Se han movido 30000imágenes\n",
      "Se han movido 31000imágenes\n",
      "Se han movido 32000imágenes\n",
      "Se han movido 33000imágenes\n",
      "Se han movido 34000imágenes\n",
      "Se han movido 35000imágenes\n",
      "Se han movido 36000imágenes\n",
      "Se han movido 37000imágenes\n",
      "Se han movido 38000imágenes\n",
      "Se han movido 39000imágenes\n",
      "Se han movido 40000imágenes\n",
      "Se han movido 41000imágenes\n",
      "Se han movido 42000imágenes\n",
      "Se han movido 43000imágenes\n",
      "Se han movido 44000imágenes\n",
      "Se han movido 45000imágenes\n",
      "Se han movido 46000imágenes\n",
      "Se han movido 47000imágenes\n",
      "Se han movido 48000imágenes\n",
      "Se han movido 49000imágenes\n",
      "Se han movido 50000imágenes\n",
      "Se han movido 51000imágenes\n",
      "Se han movido 52000imágenes\n",
      "Se han movido 53000imágenes\n",
      "Se han movido 54000imágenes\n",
      "Se han movido 55000imágenes\n",
      "Se han movido 56000imágenes\n",
      "Se han movido 57000imágenes\n",
      "Se han movido 57457imágenes\n"
     ]
    }
   ],
   "source": [
    "moverImagenesCat(imagePatchesTest, 'test', test_labels_df)"
   ]
  }
 ],
 "metadata": {
  "kernelspec": {
   "display_name": "Python 3",
   "language": "python",
   "name": "python3"
  },
  "language_info": {
   "codemirror_mode": {
    "name": "ipython",
    "version": 3
   },
   "file_extension": ".py",
   "mimetype": "text/x-python",
   "name": "python",
   "nbconvert_exporter": "python",
   "pygments_lexer": "ipython3",
   "version": "3.6.4"
  }
 },
 "nbformat": 4,
 "nbformat_minor": 2
}
